{
  "nbformat": 4,
  "nbformat_minor": 0,
  "metadata": {
    "colab": {
      "name": "Ad_carry_statistics.ipynb",
      "provenance": []
    },
    "kernelspec": {
      "name": "python3",
      "display_name": "Python 3"
    }
  },
  "cells": [
    {
      "cell_type": "code",
      "metadata": {
        "id": "kYGP7HLZvLad"
      },
      "source": [
        "from math import *"
      ],
      "execution_count": 75,
      "outputs": []
    },
    {
      "cell_type": "code",
      "metadata": {
        "id": "B6uuVebT_Zo0"
      },
      "source": [
        "def init_champion() :\n",
        "    champion = { 'Xayah': {'AD': 60 ,'AD+':3.5 ,'AS': 0.625,'AS+': 3.9, 'HP': 590, 'HP+': 88, 'MP': 340,'MP+': 40,'Range': 525 ,'MS': 325 },\n",
        "             'Ashe': {'AD': 59,'AD+':2.96 ,'AS': 0.658 ,'AS+': 3.33, 'HP': 570, 'HP+': 87, 'MP': 280, 'MP+': 32,'Range': 600,'MS': 325 },\n",
        "             'Lucian': {'AD':64 ,'AD+':2.3 ,'AS': 0.638 ,'AS+': 3.3, 'HP': 570, 'HP+': 86, 'MP':348.8, 'MP+':38,'Range': 500 ,'MS': 335},\n",
        "             'Caitlyn': {'AD': 62 ,'AD+': 2.8 ,'AS': 0.681,'AS+': 3.5, 'HP': 510, 'HP+': 93, 'MP': 313.7, 'MP+': 35,'Range': 650 ,'MS': 325 },\n",
        "             'Jinx': {'AD': 57,'AD+': 3.4,'AS': 0.625 ,'AS+': 1, 'HP': 610, 'HP+': 86, 'MP': 245, 'MP+': 45,'Range': 525 ,'MS': 325},\n",
        "             'Jhin': {'AD': 59 ,'AD+': 4.7 ,'AS': 0.625 ,'AS+': 3, 'HP': 585, 'HP+': 93, 'MP': 300, 'MP+':50,'Range': 550 ,'MS': 330},\n",
        "             'Varus': {'AD': 61 ,'AD+':3 ,'AS': 0.658 ,'AS+':4, 'HP': 530, 'HP+': 91, 'MP': 360, 'MP+': 33,'Range': 575 ,'MS': 330},\n",
        "             'Aphelios': {'AD': 57,'AD+': 2.4 ,'AS': 0.64,'AS+': 2.1, 'HP': 530, 'HP+': 88, 'MP': 348, 'MP+': 42,'Range': 550 ,'MS': 325 },\n",
        "             'MissFortune': {'AD': 52,'AD+':2.7 ,'AS': 0.656,'AS+': 3, 'HP': 570, 'HP+': 93, 'MP':325.84, 'MP+': 35,'Range': 550 ,'MS': 325 },\n",
        "             'Twitch': {'AD': 59 ,'AD+': 3.11,'AS': 0.679 ,'AS+': 3.38, 'HP': 612, 'HP+': 86, 'MP': 287.2, 'MP+': 40,'Range': 550 ,'MS': 330},\n",
        "             'Samira': {'AD': 57 ,'AD+': 2.3 ,'AS': 0.658,'AS+': 3.3, 'HP': 530, 'HP+': 88, 'MP': 348.88, 'MP+':38,'Range': 500 ,'MS': 335},\n",
        "             'Ezreal': {'AD': 60 ,'AD+': 2.5 ,'AS': 0.625 ,'AS+': 2.5, 'HP': 530, 'HP+': 88, 'MP': 375, 'MP+': 70,'Range': 550 ,'MS': 325},\n",
        "             'Kaisa': {'AD': 59 ,'AD+': 2,'AS': 0.644 ,'AS+': 1.8, 'HP': 600, 'HP+': 88, 'MP': 344.88, 'MP+': 38,'Range': 525 ,'MS': 335},\n",
        "             'Tristana': {'AD': 61 ,'AD+': 3.3,'AS': 0.656,'AS+': 1.5, 'HP': 559, 'HP+': 88, 'MP': 250, 'MP+': 32,'Range': 550,'MS': 325} }  \n",
        "\n",
        "    return champion \n"
      ],
      "execution_count": 1,
      "outputs": []
    },
    {
      "cell_type": "code",
      "metadata": {
        "id": "A-OYaJUDTw7b"
      },
      "source": [
        "def printLv1(dictionary,name) : \n",
        "  \n",
        "  dict_champ = dictionary[name]\n",
        "\n",
        "  print('Lv1 statistics of ',name ,\":\")\n",
        "\n",
        "  print(\"\\n AD : \",dict_champ['AD'],\"\\n\",\"AS : \", dict_champ['AS'],\"\\n\",\"HP : \", dict_champ['HP'],\"\\n\",\"MP : \", dict_champ['MP'],\"\\n\",\"Range : \",dict_champ['Range'],\"\\n\",\"MS : \",dict_champ['MS'], \"\\n\")"
      ],
      "execution_count": 72,
      "outputs": []
    },
    {
      "cell_type": "code",
      "metadata": {
        "id": "YMxOUyqpVWBS"
      },
      "source": [
        "def printLv18(dictionary,name) : \n",
        "\n",
        "  dict_champ = dictionary[name]\n",
        "\n",
        "  print('Lv18 statistics of ',name ,\":\")\n",
        "\n",
        "  AD_Plus = dict_champ['AD+'] * 17\n",
        "\n",
        "  HP_Plus = dict_champ['HP+'] * 17\n",
        "\n",
        "  MP_Plus = dict_champ['MP+'] * 17\n",
        "\n",
        "  AS_Plus = (dict_champ['AS+'] * 0.01) * 17\n",
        "\n",
        "\n",
        "  print(\"\\n AD : \",round(dict_champ['AD'] + AD_Plus),\"\\n\",\"AS : \", round(dict_champ['AS']+(dict_champ['AS']*AS_Plus),3),\"\\n\",\"HP : \", dict_champ['HP']+HP_Plus,\"\\n\",\"MP : \", dict_champ['MP']+MP_Plus,\"\\n\",\"Range : \",dict_champ['Range'],\"\\n\",\"MS : \",dict_champ['MS'],'\\n')"
      ],
      "execution_count": 86,
      "outputs": []
    },
    {
      "cell_type": "code",
      "metadata": {
        "id": "5YNAIXFbwSz1"
      },
      "source": [
        "def printLvN(dictionary,name,level) : \n",
        "\n",
        "  dict_champ = dictionary[name]\n",
        "\n",
        "  print('Lv',level,' statistics of ',name ,\":\")\n",
        "\n",
        "  AD_Plus = dict_champ['AD+'] * (level-1) * (0.7025 + 0.0175 * (level-1))\n",
        "\n",
        "  HP_Plus = dict_champ['HP+'] * (level-1) * (0.7025 + 0.0175 * (level-1))\n",
        "\n",
        "  MP_Plus = dict_champ['MP+'] * (level-1) * (0.7025 + 0.0175 * (level-1))\n",
        "\n",
        "  AS_Plus = (dict_champ['AS+'] * 0.01) * (level-1) * (0.7025 + 0.0175 * (level-1))\n",
        "\n",
        "  print(\"\\n AD : \",round(dict_champ['AD'] + AD_Plus),\"\\n\",\"AS : \", round(dict_champ['AS']+(dict_champ['AS']*AS_Plus),3),\"\\n\",\"HP : \", dict_champ['HP']+HP_Plus,\"\\n\",\"MP : \", dict_champ['MP']+MP_Plus,\"\\n\",\"Range : \",dict_champ['Range'],\"\\n\",\"MS : \",dict_champ['MS'],\"\\n\" )\n"
      ],
      "execution_count": 87,
      "outputs": []
    },
    {
      "cell_type": "code",
      "metadata": {
        "colab": {
          "base_uri": "https://localhost:8080/"
        },
        "id": "RaxJC5BJEWDw",
        "outputId": "edf0d041-500d-4bae-ca80-0afbb663be7d"
      },
      "source": [
        "champ = {}\n",
        "\n",
        "champ = init_champion()\n",
        "\n",
        "printLv1(champ,'Xayah')\n",
        "\n",
        "printLv18(champ,'Xayah')\n",
        "\n",
        "printLvN(champ,'Xayah',15)\n"
      ],
      "execution_count": 91,
      "outputs": [
        {
          "output_type": "stream",
          "text": [
            "Lv1 statistics of  Xayah :\n",
            "\n",
            " AD :  60 \n",
            " AS :  0.625 \n",
            " HP :  590 \n",
            " MP :  340 \n",
            " Range :  525 \n",
            " MS :  325 \n",
            "\n",
            "Lv18 statistics of  Xayah :\n",
            "\n",
            " AD :  120 \n",
            " AS :  1.039 \n",
            " HP :  2086 \n",
            " MP :  1020 \n",
            " Range :  525 \n",
            " MS :  325 \n",
            "\n",
            "Lv 15  statistics of  Xayah :\n",
            "\n",
            " AD :  106 \n",
            " AS :  0.948 \n",
            " HP :  1757.32 \n",
            " MP :  870.6 \n",
            " Range :  525 \n",
            " MS :  325 \n",
            "\n"
          ],
          "name": "stdout"
        }
      ]
    }
  ]
}